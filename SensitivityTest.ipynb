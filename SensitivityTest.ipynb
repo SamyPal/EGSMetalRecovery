{
 "cells": [
  {
   "cell_type": "code",
   "execution_count": 1,
   "metadata": {},
   "outputs": [],
   "source": [
    "import numpy as np\n",
    "import System_model.CHMP_funs as cf\n",
    "import System_model.MonteCarlo_funs as mc"
   ]
  },
  {
   "cell_type": "markdown",
   "metadata": {},
   "source": [
    "# Default Parameter list\n",
    "Only fixed values for each parameter"
   ]
  },
  {
   "cell_type": "code",
   "execution_count": 2,
   "metadata": {},
   "outputs": [],
   "source": [
    "from iapws import IAPWS97\n",
    "Temp=[150,]\n",
    "FixedParam={\n",
    "           \"t\"        : Temp,                                         # temperature [°C]\n",
    "           \"p\"        : [IAPWS97(T=(273+T), x=1).P*10 for T in Temp], # pressure    [bar]\n",
    "           \"ph\"       : [4.6,],                                       # Acidity/Basicity\n",
    "           \"q\"        : [150,],                                       # Flow rate [L/s]\n",
    "           \"s\"        : [29,],                                        # Salinity [g/L]\n",
    "           \"ewe\"      : [0.35,],\n",
    "           #--------Concentrated suspended solids [mg/L]-------------------------\n",
    "           \"co2\":[680 ,],      # Carbon dioxide\n",
    "           \"na\":[49800,],      # Sodium\n",
    "           \"ca\": [1350,],      # Calcium\n",
    "           \"mg\": [7,],         # Magnesium\n",
    "           \"cl\": [98100,],     # Chlorine\n",
    "           \"au\": [5e-3,],      # Gold   \n",
    "           \"ag\": [26e-3,],     # Silver\n",
    "           \"co\": [8e-3,],      # Cobalt\n",
    "           \"zn\": [8,],         # Zinc\n",
    "           \"li\": [0,],         # Lithium\n",
    "           \"cu\": [0.8,],       # Copper\n",
    "           \"pb\": [360e-3,],    # Lead\n",
    "           \"ni\": [94e-3,],     # Nikkel\n",
    "           \"cd\": [40e-3,],     # Cadmium \n",
    "           \"ti\": [8.2e-3,],    # Tin\n",
    "           \"mo\": [33e-3,],     # Molybdenum \n",
    "           \"mn\": [0],          # Manganese\n",
    "           \"ba\": [0],          # Barium\n",
    "           \"se\": [12e-3,],     # Selenium\n",
    "           \"sr\": [0],          # Strontium\n",
    "           \"sb\": [6e-3,],      # Antimony\n",
    "           \"al\": [0],          # Aluminum\n",
    "           \"as\": [0],          # Arsenic\n",
    "          }\n",
    "\n",
    "#------------------Parameters for the C4 function (the geothermal GCHPc component)---------------\n",
    "GCHPc_params={ \"ht_heat_curve\" : np.array([5,]),\n",
    "               \"ht_heat_t_supply\" : 100,\n",
    "               \"ht_heat_t_return\" : 70,\n",
    "               \"lt_heat_curve\" : np.array([0,]),\n",
    "               \"lt_heat_t_supply\"  :60,\n",
    "               \"lt_heat_t_return\" : 40,\n",
    "               \"brine_tds\" : .1\n",
    "              }"
   ]
  },
  {
   "cell_type": "markdown",
   "metadata": {},
   "source": [
    "# Sensitivity Analysis performed\n",
    "A parameter list with fixed values (only one number per parameter) is iterated over. For each parameter a Monte Carlo analysis is performed, where the parameter is given a constant distribution which ranges +/- 10% from fixed value while other parameters remain fixed."
   ]
  },
  {
   "cell_type": "code",
   "execution_count": 8,
   "metadata": {},
   "outputs": [
    {
     "name": "stdout",
     "output_type": "stream",
     "text": [
      "Parameter: t, 0,1,2,3,4,5,6,7,8,9,\n",
      "p, 0,1,2,3,4,5,6,7,8,9,\n",
      "ph, 0,1,2,3,4,5,6,7,8,9,\n",
      "q, 0,1,2,3,4,5,6,7,8,9,\n",
      "s, 0,1,2,3,4,5,6,7,8,9,\n",
      "ewe, 0,1,2,3,4,5,6,7,8,9,\n",
      "co2, 0,1,2,3,4,5,6,7,8,9,\n",
      "na, 0,1,2,3,4,5,6,7,8,9,\n",
      "ca, 0,1,2,3,4,5,6,7,8,9,\n",
      "mg, 0,1,2,3,4,5,6,7,8,9,\n",
      "cl, 0,1,2,3,4,5,6,7,8,9,\n",
      "au, 0,1,2,3,4,5,6,7,8,9,\n",
      "ag, 0,1,2,3,4,5,6,7,8,9,\n",
      "co, 0,1,2,3,4,5,6,7,8,9,\n",
      "zn, 0,1,2,3,4,5,6,7,8,9,\n",
      "li, 0,1,2,3,4,5,6,7,8,9,\n",
      "cu, 0,1,2,3,4,5,6,7,8,9,\n",
      "pb, 0,1,2,3,4,5,6,7,8,9,\n",
      "ni, 0,1,2,3,4,5,6,7,8,9,\n",
      "cd, 0,1,2,3,4,5,6,7,8,9,\n",
      "ti, 0,1,2,3,4,5,6,7,8,9,\n",
      "mo, 0,1,2,3,4,5,6,7,8,9,\n",
      "mn, 0,1,2,3,4,5,6,7,8,9,\n",
      "ba, 0,1,2,3,4,5,6,7,8,9,\n",
      "se, 0,1,2,3,4,5,6,7,8,9,\n",
      "sr, 0,1,2,3,4,5,6,7,8,9,\n",
      "sb, 0,1,2,3,4,5,6,7,8,9,\n",
      "al, 0,1,2,3,4,5,6,7,8,9,\n",
      "as, 0,1,2,3,4,5,6,7,8,9,\n"
     ]
    }
   ],
   "source": [
    "num_mc_runs=1e1\n",
    "\n",
    "print(\"Parameter\",end=\": \")\n",
    "for key in FixedParam:\n",
    "    print(key, end =\", \") \n",
    "    sens_param_dist=FixedParam.copy()\n",
    "    sens_param_dist[key]=[sens_param_dist[key][0]*0.9,sens_param_dist[key][0]*1.1]\n",
    "    df=mc.full_monte_carlo_loop(num_mc_runs,sens_param_dist,GCHPc_params)\n",
    "    df.to_csv(\"Results/Sensitivity/Results_sensitivity_{}.csv\".format(key))\n",
    "    df.to_pickle(\"Results/Sensitivity/Results_sensitivity_{}.pickle\".format(key))\n",
    "    print(\"\")"
   ]
  }
 ],
 "metadata": {
  "kernelspec": {
   "display_name": "Python 3",
   "language": "python",
   "name": "python3"
  },
  "language_info": {
   "codemirror_mode": {
    "name": "ipython",
    "version": 3
   },
   "file_extension": ".py",
   "mimetype": "text/x-python",
   "name": "python",
   "nbconvert_exporter": "python",
   "pygments_lexer": "ipython3",
   "version": "3.6.8"
  }
 },
 "nbformat": 4,
 "nbformat_minor": 2
}
