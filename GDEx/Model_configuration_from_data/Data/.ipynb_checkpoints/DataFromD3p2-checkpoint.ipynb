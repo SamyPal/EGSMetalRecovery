{
 "cells": [
  {
   "cell_type": "markdown",
   "metadata": {},
   "source": [
    "# Data from the  Deliverable D3.2\n",
    "In the following data from the report **Report on performance, mass and energy balances and design criteria for gas-diffusion electroprecipitation and electrocrystallization**, is extacted and stored in pandas dataframes."
   ]
  },
  {
   "cell_type": "code",
   "execution_count": 10,
   "metadata": {},
   "outputs": [],
   "source": [
    "import pandas as pd\n",
    "import numpy as np\n",
    "import matplotlib.pyplot as plt\n",
    "%matplotlib inline"
   ]
  },
  {
   "cell_type": "markdown",
   "metadata": {},
   "source": [
    "### Data from Tables 4.1, 5.1 and 5.4\n",
    "Data from samples of simulated geothermal brine covered in chapter 5."
   ]
  },
  {
   "cell_type": "code",
   "execution_count": 11,
   "metadata": {},
   "outputs": [],
   "source": [
    "df5=pd.DataFrame({'PH':[3,3,3,3,3,3],\n",
    "                  'Temperature':[20,50,20,50,20,50],\n",
    "                  'Brine origin':['ICELAND','ICELAND','BELGIUM','BELGIUM','ENGLAND','ENGLAND'],\n",
    "                  'Energy input [kWh/m^3]':[0.19,0.09,2.10,1.96,0.96,1.15],\n",
    "                  'Ca [mg/L]':[1750,1750,10000,10000,1000,1000],\n",
    "                  'Mg [mg/L]':[5,5,600,600,50,50],\n",
    "                  'Salinity [g/L]':[30,30,135,135,5,5],\n",
    "                  'Fe [mg/L]':[0,0,50,50,800,800],\n",
    "                  'Al [mg/L]':[180,180,0,0,0,0],\n",
    "                  'Li [mg/L]':[0,0,0,0,0,0],\n",
    "                  'Cu [mg/L]':[0,0,15,15,0,0],\n",
    "                  'Energy input [kWh/kg metal rem.]':[2.1,5.17,3.4,11.5,11.4,26.4],\n",
    "                  'Salinity [g/L]':30,\n",
    "                  'Ewe':0.350})"
   ]
  },
  {
   "cell_type": "markdown",
   "metadata": {},
   "source": [
    "### Data from Tables 4.1, 7.2, 7.4 and Figure 7.5 and Table 7.4 \n",
    "Data from samples where **Li** is varied. Data from Figure 7.5 is extracted using the distance measuring tool in Adobe Acrobat Reader (Tools>>Measure)."
   ]
  },
  {
   "cell_type": "code",
   "execution_count": 12,
   "metadata": {},
   "outputs": [],
   "source": [
    "df7p5=pd.DataFrame({'PH':[7,7,7,7,9,9,9,9,11,11,11,11],\n",
    "                    'Al [mg/L]':[155.9]*12,\n",
    "                    'Li [mg/L]':[0,20,40,80]*3,\n",
    "                    'Ca [mg/L]':[0]*12,\n",
    "                    'Mg [mg/L]':[0]*12,\n",
    "                    'Al out/in ratio':np.array([2.42,2.40,2.41,2.04,\n",
    "                                                2.42,2.37,2.42,2.42,\n",
    "                                                0.22,2.16,1.93,1.94])/2.42,\n",
    "                    'Li out/in ratio':np.array([0.00,0.22,0.29,0.30,\n",
    "                                                0.00,0.26,0.27,0.23,\n",
    "                                                0.00,0.36,0.60,0.29])/2.42,\n",
    "                    'Energy input [kWh/m^3]':[0.13,1.61,1.63,1.63]*3,\n",
    "                    'Energy input [kWh/kg metal rem.]':[31.75,10.50,10.10,10.11]*3,\n",
    "                    'Temperature':[20]*12,\n",
    "                    'Salinity [g/L]':30,\n",
    "                    'Ewe':0.350})"
   ]
  },
  {
   "cell_type": "markdown",
   "metadata": {},
   "source": [
    "### Data from Tables 4.1, 7.3, 7.4 and Figure 7.8 \n",
    "Data from samples where **Al** is varied. Data from Figure 7.8 is extracted using the distance measuring tool in Adobe Acrobat Reader (Tools>>Measure)."
   ]
  },
  {
   "cell_type": "code",
   "execution_count": 13,
   "metadata": {},
   "outputs": [],
   "source": [
    "df7p8=pd.DataFrame({'PH':[7,7,9,9,11,11],\n",
    "                     'Al [mg/L]':[155.9,233.9]*3,\n",
    "                     'Li [mg/L]':[20]*6,\n",
    "                     'Ca [mg/L]':[0]*6,\n",
    "                     'Mg [mg/L]':[0]*6,\n",
    "                     'Al out/in ratio': np.array([2.00,2.02,\n",
    "                                                  1.97,2.02,\n",
    "                                                  1.81,1.89])/2.02,\n",
    "                     'Li out/in ratio': np.array([0.19,0.04,\n",
    "                                                  0.22,0.18,\n",
    "                                                  0.30,0.42])/2.02,\n",
    "                     'Energy input [kWh/m^3]':[1.61,2.31]*3,\n",
    "                     'Energy input [kWh/kg metal rem.]':[10.50,10.20]*3,\n",
    "                     'Temperature':[20]*6,\n",
    "                     'Salinity [g/L]':30,\n",
    "                     'Ewe':0.350})"
   ]
  },
  {
   "cell_type": "markdown",
   "metadata": {},
   "source": [
    "### Data from Tables 4.1, 7.5 and Figure 7.12 \n",
    "Data from samples where the working electrode potential (**Ewe**) is varied. Data from figure 7.12 is extracted by the distance measuring tool in Adobe Acrobat Reader (Tools>>Measure)."
   ]
  },
  {
   "cell_type": "code",
   "execution_count": 14,
   "metadata": {},
   "outputs": [],
   "source": [
    "df7p12=pd.DataFrame({'PH':[7,7,7,9,9,9,11,11,11],\n",
    "                     'Al [mg/L]':[155.9]*9,\n",
    "                     'Li [mg/L]':[40]*9,\n",
    "                     'Ca [mg/L]':[0]*9,\n",
    "                     'Mg [mg/L]':[0]*9,\n",
    "                     'Ewe':[0.350,0.700,0.900]*3,\n",
    "                     'Al out/in ratio':np.array([1.74,1.58,1.62,1.74,1.74,\n",
    "                                                 1.74,1.39,1.36,1.29])/1.75,\n",
    "                     'Li out/in ratio':np.array([0.21,0.44,0.43,0.19,0.10,\n",
    "                                                 0.13,0.43,0.21,0.31])/1.75,\n",
    "                     'Energy input [kWh/m^3]':[1.63,3.43,4.71]*3,\n",
    "                     'Energy input [kWh/kg metal rem.]':[10.10,22.32,29.95]*3,\n",
    "                     'Temperature':[20]*9,\n",
    "                     'Salinity [g/L]':30})"
   ]
  },
  {
   "cell_type": "markdown",
   "metadata": {},
   "source": [
    "### Data from Table 4.1, 7.6 and Figure 7.16 \n",
    "Data from samples where the salinity (**NaCl**) is varied. Data from Figure 7.16 is extracted by the distance measuring tool in Adobe Acrobat Reader (Tools>>Measure)."
   ]
  },
  {
   "cell_type": "code",
   "execution_count": 15,
   "metadata": {},
   "outputs": [],
   "source": [
    "df7p16=pd.DataFrame({'PH':[7,7,7,7,9,9,9,9,11,11,11,11],\n",
    "                     'Al [mg/L]':[155.9]*12,\n",
    "                     'Li [mg/L]':[40]*12,\n",
    "                     'Ca [mg/L]':[0]*12,\n",
    "                     'Mg [mg/L]':[0]*12,\n",
    "                     'Al out/in ratio':np.array([1.93,1.92,1.83,1.86,1.91,1.93,\n",
    "                                                 1.93,1.93,1.84,1.54,1.17,1.08])/1.93,\n",
    "                     'Li out/in ratio':np.array([0.04,0.23,0.45,0.45,0.28,0.21,\n",
    "                                                 0.55,0.72,0.71,0.48,0.47,0.46])/1.93,\n",
    "                     'Salinity [g/L]':[5,30,75,135]*3,\n",
    "                     'Energy input [kWh/m^3]':[2.31,1.63,1.41,1.28]*3,\n",
    "                     'Energy input [kWh/kg metal rem.]':[15.21,10.10,8.61,7.59]*3,\n",
    "                     'Temperature':[20]*12,\n",
    "                     'Ewe':0.350})"
   ]
  },
  {
   "cell_type": "markdown",
   "metadata": {},
   "source": [
    "### Data from Table 4.1, 7.8 and Figure 7.20 \n",
    "Data from samples where the **Ca** is varied. Data from Figure 7.20 is extracted by the distance measuring tool in Adobe Acrobat Reader (Tools>>Measure)."
   ]
  },
  {
   "cell_type": "code",
   "execution_count": 16,
   "metadata": {},
   "outputs": [],
   "source": [
    "df7p20=pd.DataFrame({'PH':[7,7,7,9,9,9,11,11,11],\n",
    "                     'Al [mg/L]':[155.9]*9,\n",
    "                     'Li [mg/L]':[40]*9,\n",
    "                     'Ca [mg/L]':[0,2000,15000]*3,\n",
    "                     'Mg [mg/L]':[0]*9,\n",
    "                     'Al out/in ratio':np.array([2.36,2.11,2.33,\n",
    "                                                 2.36,2.33,2.33,\n",
    "                                                 1.88,2.07,2.16])/2.36,\n",
    "                     'Li out/in ratio':np.array([0.28,0.54,0.58,\n",
    "                                                 0.26,0.21,0.75,\n",
    "                                                 0.58,0.23,0.83])/2.36,\n",
    "                     'Energy input [kWh/m^3]':[1.63,2.97,2.59]*3,\n",
    "                     'Energy input [kWh/kg metal rem.]':[10.10,19.04,15.39]*3,\n",
    "                     'Temperature':[20]*9,\n",
    "                     'Salinity [g/L]':30,\n",
    "                     'Ewe':0.350})"
   ]
  },
  {
   "cell_type": "markdown",
   "metadata": {},
   "source": [
    "### Data from Table 4.1, 7.8 and Figure 7.23 \n",
    "Data from samples where the **Mg** is varied. Data from Figure 7.23 is extracted by the distance measuring tool in Adobe Acrobat Reader (Tools>>Measure)."
   ]
  },
  {
   "cell_type": "code",
   "execution_count": 17,
   "metadata": {},
   "outputs": [],
   "source": [
    "df7p23=pd.DataFrame({'PH':[7,7,7,7,7,9,9,9,9,9,11,11,11,11,11],\n",
    "                     'Al [mg/L]':[155.9]*15,  \n",
    "                     'Li [mg/L]':[40]*15,\n",
    "                     'Ca [mg/L]':[0,0,0,2000,2000]*3,\n",
    "                     'Mg [mg/L]':[0,100,1000,100,1000]*3,\n",
    "                     'Al out/in ratio':np.array([1.97,1.96,1.96,1.98,1.95,\n",
    "                                                 1.98,1.96,1.96,1.96,1.95,\n",
    "                                                 1.58,1.65,1.96,1.76,1.95])/1.99,\n",
    "                     'Li out/in ratio':np.array([0.23,0.76,0.61,0.68,0.15,\n",
    "                                                 0.22,0.71,0.13,0.66,0.11,\n",
    "                                                 0.49,0.49,0.15,0.35,0.17])/1.99,\n",
    "                     'Energy input [kWh/m^3]':[1.63,2.28,12.19,3.08,12.22]*3,\n",
    "                     'Energy input [kWh/kg metal rem.]':[10.10,12.61,66.21,17.23,83.36]*3,\n",
    "                     'Temperature':[20]*15,\n",
    "                     'Salinity [g/L]':30,\n",
    "                     'Ewe':0.350})"
   ]
  },
  {
   "cell_type": "markdown",
   "metadata": {},
   "source": [
    "### Data from Table 4.1, 7.9 and Figure 7.23 \n",
    "Data from samples where the temperature **T** is varied. Data from Figure 7.23 is extracted by the distance measuring tool in Adobe Acrobat Reader (Tools>>Measure)."
   ]
  },
  {
   "cell_type": "code",
   "execution_count": 22,
   "metadata": {},
   "outputs": [],
   "source": [
    "#Unnið úr mynd 7.26\n",
    "df7p26=pd.DataFrame({'PH':[7,7,9,9,11,11],\n",
    "                     'Temperature':[20,50]*3,\n",
    "                     'Al [mg/L]':[155.9]*6,  \n",
    "                     'Li [mg/L]':[40]*6,\n",
    "                     'Ca [mg/L]':[0]*6,\n",
    "                     'Mg [mg/L]':[0]*6,\n",
    "                     'Al out/in ratio':np.array([1.84,1.84,\n",
    "                                                 1.84,1.84,\n",
    "                                                 1.47,1.00])/1.85,\n",
    "                     'Li out/in ratio':np.array([0.22,0.19,\n",
    "                                                 0.21,0.27,\n",
    "                                                 0.46,0.33])/1.85,\n",
    "                     'Energy input [kWh/m^3]':[1.63,1.69]*3,\n",
    "                     'Energy input [kWh/kg metal rem.]':[10.10,10.66]*3,\n",
    "                     'Salinity [g/L]':30,\n",
    "                     'Ewe':0.350})"
   ]
  },
  {
   "cell_type": "markdown",
   "metadata": {},
   "source": [
    "### Data from Tables 4.1, 8.1, 8.3 and Figure 8.6 \n",
    "Data from real brine samples from Romania. Data from Figure 8.6 is extracted by the distance measuring tool in Adobe Acrobat Reader (Tools>>Measure)."
   ]
  },
  {
   "cell_type": "code",
   "execution_count": 23,
   "metadata": {},
   "outputs": [],
   "source": [
    "df8p6=pd.DataFrame({'Brine origin':['ROMANIA','ROMANIA'],\n",
    "                    'PH':[9,11],\n",
    "                    'Ewe':[0.350]*2,\n",
    "                    'Salinity [g/L]':[1.55]*2,\n",
    "                    'Temperature':[20]*2,\n",
    "                    'Ca [mg/L]':[303,]*2,\n",
    "                    'Mg [mg/L]':[85.6,]*2,\n",
    "                    'Sr [mg/L]':[12.04,]*2,\n",
    "                    'Sr out/in ratio':np.array([0.52,0.88])/2.12,\n",
    "                    'Li [mg/L]':[0.129,]*2,\n",
    "                    'Li out/in ratio':np.array([0.06,0.15])/2.12,\n",
    "                    'Mn [mg/L]':[0.039,]*2,\n",
    "                    'Mn out/in ratio':np.array([1.32,1.84])/2.12,\n",
    "                    'Ba [mg/L]':[0.032,]*2,\n",
    "                    'Ba out/in ratio':np.array([0.96,1.23])/2.12,\n",
    "                    'Rb [mg/L]':[0.016,]*2,\n",
    "                    'As [mg/L]':[0.0038,]*2,\n",
    "                    'As out/in ratio':np.array([0.63,0.81])/2.12,\n",
    "                    'Zn [mg/L]':[0.0029,]*2,\n",
    "                    'Zn out/in ratio':np.array([0.36,1.00])/2.12,\n",
    "                    'Ni [mg/L]':[0.0,]*2,\n",
    "                    'Energy input [kWh/m^3]':[10.26,]*2,\n",
    "                    'Energy input [kWh/kg metal rem.]':[0.04,]*2})"
   ]
  },
  {
   "cell_type": "markdown",
   "metadata": {},
   "source": [
    "### Data from Tables 4.1, 8.1, 8.3 and Figure 8.7 \n",
    "Data from real brine samples from Romania. Data from Figure 8.6 is extracted by the distance measuring tool in Adobe Acrobat Reader (Tools>>Measure)."
   ]
  },
  {
   "cell_type": "code",
   "execution_count": 24,
   "metadata": {},
   "outputs": [],
   "source": [
    "df8p7=pd.DataFrame({'Brine origin':['ROMANIA','ROMANIA'],\n",
    "                    'PH':[9,11],\n",
    "                    'Ewe':[0.350]*2,\n",
    "                    'Salinity [g/L]':[0.15]*2, \n",
    "                    'Temperature':[20,]*2,\n",
    "                    'Ca [mg/L]':[50.8,]*2,\n",
    "                    'Mg [mg/L]':[5.76,]*2,\n",
    "                    'Sr [mg/L]':[0.65,]*2,\n",
    "                    'Sr out/in ratio':np.array([0.90,2.00])/2.01,\n",
    "                    'Li [mg/L]':[0.033,]*2,\n",
    "                    'Mn [mg/L]':[0.00,]*2,\n",
    "                    'Ba [mg/L]':[0.081,]*2,\n",
    "                    'Ba out/in ratio':np.array([1.16,1.90])/2.01,\n",
    "                    'Rb [mg/L]':[0.014,]*2,\n",
    "                    'Rb out/in ratio':np.array([0.00,0.14])/2.01,\n",
    "                    'As [mg/L]':[0.0057,]*2,\n",
    "                    'As out/in ratio':np.array([0.25,0.44])/2.01,\n",
    "                    'Zn [mg/L]':[0.062,]*2,\n",
    "                    'Zn out/in ratio':np.array([1.84,1.76])/2.01,\n",
    "                    'Ni [mg/L]':[0.012,]*2,\n",
    "                    'Ni out/in ratio':np.array([0.48,1.53])/2.01,\n",
    "                    'Al [mg/L]':[0.044]*2,\n",
    "                    'Al out/in ratio':np.array([0,0.12])/2.01,\n",
    "                    'Energy input [kWh/m^3]':[16.86,]*2,\n",
    "                    'Energy input [kWh/kg metal rem.]':[0.05,]*2})"
   ]
  },
  {
   "cell_type": "markdown",
   "metadata": {},
   "source": [
    "### Data written as csv file and python pickle file"
   ]
  },
  {
   "cell_type": "code",
   "execution_count": 25,
   "metadata": {},
   "outputs": [
    {
     "name": "stderr",
     "output_type": "stream",
     "text": [
      "C:\\Users\\gth\\AppData\\Local\\Continuum\\anaconda3\\lib\\site-packages\\pandas\\core\\reshape\\merge.py:970: UserWarning: You are merging on int and float columns where the float values are not equal to their int representation\n",
      "  'representation', UserWarning)\n"
     ]
    }
   ],
   "source": [
    "#------Data from chapter 5------------------------------\n",
    "df5['Ca + Mg [mg/L]']=df5['Ca [mg/L]']+df5['Mg [mg/L]']\n",
    "df5.to_csv('df5.csv', index=False)\n",
    "df5.to_pickle('df5.pickle')\n",
    "\n",
    "#------Data from chapter 7------------------------------\n",
    "df7=pd.DataFrame()\n",
    "df7=df7p5.merge(df7p8,how='outer')\\\n",
    "         .merge(df7p12,how='outer')\\\n",
    "         .merge(df7p16,how='outer')\\\n",
    "         .merge(df7p20,how='outer')\\\n",
    "         .merge(df7p23,how='outer')\\\n",
    "         .merge(df7p26,how='outer')\n",
    "df7['Ca + Mg [mg/L]']=df7['Ca [mg/L]']+df7['Mg [mg/L]']\n",
    "df7.to_csv('df7.csv', index=False)\n",
    "df7.to_pickle('df7.pickle')\n",
    "\n",
    "#------Data from chapter 8------------------------------\n",
    "df8=pd.DataFrame()\n",
    "df8=df8p6.merge(df8p7,how='outer')\n",
    "df8['Ca + Mg [mg/L]']=df8['Ca [mg/L]']+df8['Mg [mg/L]']\n",
    "df8.to_csv('df8.csv', index=False)\n",
    "df8.to_pickle('df8.pickle')\n",
    "\n",
    "#------Data with artificial brine ----------------\n",
    "dfLab=df5.merge(df7,how='outer')\n",
    "dfLab.to_csv('dfLab.csv', index=False)\n",
    "dfLab.to_pickle('dfLab.pickle')\n",
    "\n",
    "\n",
    "#------All data---------------------------------\n",
    "dfAll=dfLab.merge(df8,how='outer')\n",
    "dfAll.to_csv('dfAll.csv', index=False)\n",
    "dfAll.to_pickle('dfALL.pickle')"
   ]
  }
 ],
 "metadata": {
  "kernelspec": {
   "display_name": "Python 3",
   "language": "python",
   "name": "python3"
  },
  "language_info": {
   "codemirror_mode": {
    "name": "ipython",
    "version": 3
   },
   "file_extension": ".py",
   "mimetype": "text/x-python",
   "name": "python",
   "nbconvert_exporter": "python",
   "pygments_lexer": "ipython3",
   "version": "3.6.5"
  }
 },
 "nbformat": 4,
 "nbformat_minor": 2
}
