{
 "cells": [
  {
   "cell_type": "code",
   "execution_count": 4,
   "metadata": {},
   "outputs": [],
   "source": [
    "import pandas as pd\n",
    "import numpy as np\n",
    "import ResultToolbox as rt"
   ]
  },
  {
   "cell_type": "markdown",
   "metadata": {},
   "source": [
    "# Reykjanes Results"
   ]
  },
  {
   "cell_type": "code",
   "execution_count": null,
   "metadata": {},
   "outputs": [],
   "source": [
    "df_Reykjanes=pd.read_csv(\"Full_System\\Reykjanes\\Results_ReykjanesDeep10000.0.csv\")\n",
    "\n",
    "col_list=[c for c in df_Reykjanes.columns if '_3' in c]\n",
    "for c in col_list:\n",
    "    df_Reykjanes[c+'_g_s']=df_Reykjanes[c]*df_Reykjanes['q']*1e-3\n",
    "\n",
    "col_list=[c for c in df_Reykjanes.columns if '_5' in c]\n",
    "for c in col_list:\n",
    "    df_Reykjanes[c+'_g_s']=df_Reykjanes[c]*df_Reykjanes['q']*1e-3\n",
    "    \n",
    "stat_Reykjanes_Results=df_Reykjanes.describe().transpose().applymap(lambda x: rt.RoundToSigFigs_fp( x, 3 ))"
   ]
  },
  {
   "cell_type": "code",
   "execution_count": null,
   "metadata": {},
   "outputs": [],
   "source": [
    "stat_Reykjanes_Results.style.applymap(lambda x: \"{:3.2f}\".format(x) if 0.1 < x else \"{:3.2e}\".format(x)  )\n",
    "stat_Reykjanes_Results.to_excel(\"Full_System\\Reykjanes\\Statistical_Reykjanes_Results.xlsx\")"
   ]
  },
  {
   "cell_type": "markdown",
   "metadata": {},
   "source": [
    "# Balmatt Results"
   ]
  },
  {
   "cell_type": "code",
   "execution_count": 5,
   "metadata": {},
   "outputs": [],
   "source": [
    "df_balmatt=pd.read_csv(\"Full_System\\Balmatt\\Results_Balmatt10000.0.csv\")\n",
    "\n",
    "col_list=[c for c in df_balmatt.columns if '_3' in c]\n",
    "for c in col_list:\n",
    "    df_balmatt[c+'_g_s']=df_balmatt[c]*df_balmatt['q']*1e-3\n",
    "\n",
    "col_list=[c for c in df_balmatt.columns if '_5' in c]\n",
    "for c in col_list:\n",
    "    df_balmatt[c+'_g_s']=df_balmatt[c]*df_balmatt['q']*1e-3\n",
    "\n",
    "stat_balmatt_Results=df_balmatt.describe().transpose().applymap(lambda x: rt.RoundToSigFigs_fp( x, 3 ))"
   ]
  },
  {
   "cell_type": "code",
   "execution_count": 6,
   "metadata": {},
   "outputs": [],
   "source": [
    "stat_balmatt_Results.style.applymap(lambda x: \"{:3.2f}\".format(x) if 0.1 < x else \"{:3.2e}\".format(x)  )\n",
    "stat_balmatt_Results.to_excel(\"Full_System\\Balmatt\\Statistical_Balmatt_Results.xlsx\")"
   ]
  },
  {
   "cell_type": "markdown",
   "metadata": {},
   "source": [
    "# Landau Results"
   ]
  },
  {
   "cell_type": "code",
   "execution_count": 8,
   "metadata": {},
   "outputs": [],
   "source": [
    "df_landau=pd.read_csv(\"Full_System\\Landau\\Results_landau10000.0.csv\")\n",
    "\n",
    "col_list=[c for c in df_landau.columns if '_3' in c]\n",
    "for c in col_list:\n",
    "    df_landau[c+'_g_s']=df_landau[c]*df_landau['q']*1e-3\n",
    "\n",
    "col_list=[c for c in df_landau.columns if '_5' in c]\n",
    "for c in col_list:\n",
    "    df_landau[c+'_g_s']=df_landau[c]*df_landau['q']*1e-3\n",
    "\n",
    "stat_landau_Results=df_landau.describe().transpose().applymap(lambda x: rt.RoundToSigFigs_fp( x, 3 ))"
   ]
  },
  {
   "cell_type": "code",
   "execution_count": 9,
   "metadata": {},
   "outputs": [],
   "source": [
    "stat_landau_Results.style.applymap(lambda x: \"{:3.2f}\".format(x) if 0.1 < x else \"{:3.2e}\".format(x)  )\n",
    "stat_landau_Results.to_excel(\"Full_System\\Landau\\Statistical_landau_Results.xlsx\")"
   ]
  },
  {
   "cell_type": "markdown",
   "metadata": {},
   "source": [
    "# Cornwall Results"
   ]
  },
  {
   "cell_type": "code",
   "execution_count": null,
   "metadata": {},
   "outputs": [],
   "source": []
  },
  {
   "cell_type": "code",
   "execution_count": null,
   "metadata": {},
   "outputs": [],
   "source": []
  },
  {
   "cell_type": "markdown",
   "metadata": {},
   "source": [
    "# Romanian Results"
   ]
  },
  {
   "cell_type": "code",
   "execution_count": null,
   "metadata": {},
   "outputs": [],
   "source": []
  },
  {
   "cell_type": "code",
   "execution_count": null,
   "metadata": {},
   "outputs": [],
   "source": []
  }
 ],
 "metadata": {
  "kernelspec": {
   "display_name": "Python 3",
   "language": "python",
   "name": "python3"
  },
  "language_info": {
   "codemirror_mode": {
    "name": "ipython",
    "version": 3
   },
   "file_extension": ".py",
   "mimetype": "text/x-python",
   "name": "python",
   "nbconvert_exporter": "python",
   "pygments_lexer": "ipython3",
   "version": "3.6.8"
  }
 },
 "nbformat": 4,
 "nbformat_minor": 2
}
