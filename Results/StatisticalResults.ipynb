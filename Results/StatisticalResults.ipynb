{
 "cells": [
  {
   "cell_type": "code",
   "execution_count": 10,
   "metadata": {
    "tags": []
   },
   "outputs": [
    {
     "output_type": "stream",
     "name": "stdout",
     "text": "Collecting openpyxl\n  Downloading openpyxl-3.0.5-py2.py3-none-any.whl (242 kB)\n\u001b[K     |████████████████████████████████| 242 kB 2.4 MB/s \n\u001b[?25hCollecting jdcal\n  Downloading jdcal-1.4.1-py2.py3-none-any.whl (9.5 kB)\nCollecting et-xmlfile\n  Downloading et_xmlfile-1.0.1.tar.gz (8.4 kB)\nBuilding wheels for collected packages: et-xmlfile\n  Building wheel for et-xmlfile (setup.py) ... \u001b[?25ldone\n\u001b[?25h  Created wheel for et-xmlfile: filename=et_xmlfile-1.0.1-py3-none-any.whl size=8915 sha256=b56022008b61b53ca42eeaf912b0fe20899adac840f27aa5017d605565be476e\n  Stored in directory: /Users/samypalaniappan/Library/Caches/pip/wheels/e2/bd/55/048b4fd505716c4c298f42ee02dffd9496bb6d212b266c7f31\nSuccessfully built et-xmlfile\nInstalling collected packages: jdcal, et-xmlfile, openpyxl\nSuccessfully installed et-xmlfile-1.0.1 jdcal-1.4.1 openpyxl-3.0.5\n"
    }
   ],
   "source": [
    "import pandas as pd\n",
    "import numpy as np\n",
    "import ResultToolbox as rt\n",
    "!pip install openpyxl"
   ]
  },
  {
   "cell_type": "markdown",
   "metadata": {},
   "source": [
    "# Reykjanes Results"
   ]
  },
  {
   "cell_type": "code",
   "execution_count": 2,
   "metadata": {},
   "outputs": [],
   "source": [
    "df_Reykjanes=pd.read_csv(\"Full_System\\Reykjanes\\Results_ReykjanesDeep10000.0.csv\")\n",
    "\n",
    "col_list=[c for c in df_Reykjanes.columns if '_3' in c]\n",
    "for c in col_list:\n",
    "    df_Reykjanes[c+'_g_s']=df_Reykjanes[c]*df_Reykjanes['q']*1e-3\n",
    "\n",
    "col_list=[c for c in df_Reykjanes.columns if '_5' in c]\n",
    "for c in col_list:\n",
    "    df_Reykjanes[c+'_g_s']=df_Reykjanes[c]*df_Reykjanes['q']*1e-3\n",
    "    \n",
    "stat_Reykjanes_Results=df_Reykjanes.describe().transpose().applymap(lambda x: rt.RoundToSigFigs_fp( x, 3 ))"
   ]
  },
  {
   "cell_type": "code",
   "execution_count": 3,
   "metadata": {},
   "outputs": [],
   "source": [
    "stat_Reykjanes_Results.style.applymap(lambda x: \"{:3.2f}\".format(x) if 0.1 < x else \"{:3.2e}\".format(x)  )\n",
    "stat_Reykjanes_Results.to_excel(\"Full_System\\Reykjanes\\Statistical_Reykjanes_Results.xlsx\")"
   ]
  },
  {
   "cell_type": "markdown",
   "metadata": {},
   "source": [
    "# Balmatt Results"
   ]
  },
  {
   "cell_type": "code",
   "execution_count": 7,
   "metadata": {},
   "outputs": [
    {
     "output_type": "execute_result",
     "data": {
      "text/plain": "              count     mean       std     min      25%      50%      75%  \\\nUnnamed: 0  10000.0  5000.00  2890.000    0.00  2500.00  5000.00  7500.00   \nt           10000.0   120.00     1.700  115.00   118.00   120.00   121.00   \np           10000.0     1.96     0.103    1.69     1.89     1.98     2.05   \nph          10000.0     5.40     0.115    5.20     5.30     5.40     5.50   \nq           10000.0    35.00     7.070   16.20    30.00    35.90    40.20   \n\n                 max  \nUnnamed: 0  10000.00  \nt             123.00  \np               2.17  \nph              5.60  \nq              49.90  ",
      "text/html": "<div>\n<style scoped>\n    .dataframe tbody tr th:only-of-type {\n        vertical-align: middle;\n    }\n\n    .dataframe tbody tr th {\n        vertical-align: top;\n    }\n\n    .dataframe thead th {\n        text-align: right;\n    }\n</style>\n<table border=\"1\" class=\"dataframe\">\n  <thead>\n    <tr style=\"text-align: right;\">\n      <th></th>\n      <th>count</th>\n      <th>mean</th>\n      <th>std</th>\n      <th>min</th>\n      <th>25%</th>\n      <th>50%</th>\n      <th>75%</th>\n      <th>max</th>\n    </tr>\n  </thead>\n  <tbody>\n    <tr>\n      <th>Unnamed: 0</th>\n      <td>10000.0</td>\n      <td>5000.00</td>\n      <td>2890.000</td>\n      <td>0.00</td>\n      <td>2500.00</td>\n      <td>5000.00</td>\n      <td>7500.00</td>\n      <td>10000.00</td>\n    </tr>\n    <tr>\n      <th>t</th>\n      <td>10000.0</td>\n      <td>120.00</td>\n      <td>1.700</td>\n      <td>115.00</td>\n      <td>118.00</td>\n      <td>120.00</td>\n      <td>121.00</td>\n      <td>123.00</td>\n    </tr>\n    <tr>\n      <th>p</th>\n      <td>10000.0</td>\n      <td>1.96</td>\n      <td>0.103</td>\n      <td>1.69</td>\n      <td>1.89</td>\n      <td>1.98</td>\n      <td>2.05</td>\n      <td>2.17</td>\n    </tr>\n    <tr>\n      <th>ph</th>\n      <td>10000.0</td>\n      <td>5.40</td>\n      <td>0.115</td>\n      <td>5.20</td>\n      <td>5.30</td>\n      <td>5.40</td>\n      <td>5.50</td>\n      <td>5.60</td>\n    </tr>\n    <tr>\n      <th>q</th>\n      <td>10000.0</td>\n      <td>35.00</td>\n      <td>7.070</td>\n      <td>16.20</td>\n      <td>30.00</td>\n      <td>35.90</td>\n      <td>40.20</td>\n      <td>49.90</td>\n    </tr>\n  </tbody>\n</table>\n</div>"
     },
     "metadata": {},
     "execution_count": 7
    }
   ],
   "source": [
    "df_balmatt=pd.read_csv(\"Full_System/Balmatt/Results_Balmatt10000.0.csv\")\n",
    "\n",
    "col_list=[c for c in df_balmatt.columns if '_3' in c]\n",
    "for c in col_list:\n",
    "    df_balmatt[c+'_g_s']=df_balmatt[c]*df_balmatt['q']*1e-3\n",
    "\n",
    "col_list=[c for c in df_balmatt.columns if '_5' in c]\n",
    "for c in col_list:\n",
    "    df_balmatt[c+'_g_s']=df_balmatt[c]*df_balmatt['q']*1e-3\n",
    "\n",
    "stat_balmatt_Results=df_balmatt.describe().transpose().applymap(lambda x: rt.RoundToSigFigs_fp( x, 3 ))\n",
    "stat_balmatt_Results.head()"
   ]
  },
  {
   "cell_type": "code",
   "execution_count": 11,
   "metadata": {},
   "outputs": [],
   "source": [
    "stat_balmatt_Results.style.applymap(lambda x: \"{:3.2f}\".format(x) if 0.1 < x else \"{:3.2e}\".format(x))\n",
    "stat_balmatt_Results.to_excel(\"Full_System/Balmatt/Statistical_Balmatt_Results.xlsx\")\n",
    "#stat_balmatt_Results.head()"
   ]
  },
  {
   "cell_type": "markdown",
   "metadata": {},
   "source": [
    "# Landau Results"
   ]
  },
  {
   "cell_type": "code",
   "execution_count": 6,
   "metadata": {},
   "outputs": [],
   "source": [
    "df_landau=pd.read_csv(\"Full_System\\Landau\\Results_landau10000.0.csv\")\n",
    "\n",
    "col_list=[c for c in df_landau.columns if '_3' in c]\n",
    "for c in col_list:\n",
    "    df_landau[c+'_g_s']=df_landau[c]*df_landau['q']*1e-3\n",
    "\n",
    "col_list=[c for c in df_landau.columns if '_5' in c]\n",
    "for c in col_list:\n",
    "    df_landau[c+'_g_s']=df_landau[c]*df_landau['q']*1e-3\n",
    "\n",
    "stat_landau_Results=df_landau.describe().transpose().applymap(lambda x: rt.RoundToSigFigs_fp( x, 3 ))"
   ]
  },
  {
   "cell_type": "code",
   "execution_count": 7,
   "metadata": {},
   "outputs": [],
   "source": [
    "stat_landau_Results.style.applymap(lambda x: \"{:3.2f}\".format(x) if 0.1 < x else \"{:3.2e}\".format(x)  )\n",
    "stat_landau_Results.to_excel(\"Full_System\\Landau\\Statistical_landau_Results.xlsx\")"
   ]
  },
  {
   "cell_type": "markdown",
   "metadata": {},
   "source": [
    "# Cornwall Results"
   ]
  },
  {
   "cell_type": "code",
   "execution_count": 13,
   "metadata": {},
   "outputs": [],
   "source": [
    "df_cornwall=pd.read_csv(\"Full_System\\Cornwall\\Results_Cornwall10000.0.csv\")\n",
    "\n",
    "col_list=[c for c in df_cornwall.columns if '_3' in c]\n",
    "for c in col_list:\n",
    "    df_cornwall[c+'_g_s']=df_cornwall[c]*df_cornwall['q']*1e-3\n",
    "\n",
    "col_list=[c for c in df_cornwall.columns if '_5' in c]\n",
    "for c in col_list:\n",
    "    df_cornwall[c+'_g_s']=df_cornwall[c]*df_cornwall['q']*1e-3\n",
    "\n",
    "stat_cornwall_Results=df_cornwall.describe().transpose().applymap(lambda x: rt.RoundToSigFigs_fp( x, 3 ))"
   ]
  },
  {
   "cell_type": "code",
   "execution_count": 14,
   "metadata": {},
   "outputs": [],
   "source": [
    "stat_cornwall_Results.style.applymap(lambda x: \"{:3.2f}\".format(x) if 0.1 < x else \"{:3.2e}\".format(x)  )\n",
    "stat_cornwall_Results.to_excel(\"Full_System\\Cornwall\\Statistical_cornwall_Results.xlsx\")"
   ]
  },
  {
   "cell_type": "markdown",
   "metadata": {},
   "source": [
    "# Romanian Results"
   ]
  },
  {
   "cell_type": "code",
   "execution_count": 10,
   "metadata": {},
   "outputs": [],
   "source": [
    "df_romania=pd.read_csv(\"Full_System\\Romania\\Results_Romania10000.0.csv\")\n",
    "\n",
    "col_list=[c for c in df_romania.columns if '_3' in c]\n",
    "for c in col_list:\n",
    "    df_romania[c+'_g_s']=df_romania[c]*df_romania['q']*1e-3\n",
    "\n",
    "col_list=[c for c in df_romania.columns if '_5' in c]\n",
    "for c in col_list:\n",
    "    df_romania[c+'_g_s']=df_romania[c]*df_romania['q']*1e-3\n",
    "\n",
    "stat_romania_Results=df_romania.describe().transpose().applymap(lambda x: rt.RoundToSigFigs_fp( x, 3 ))"
   ]
  },
  {
   "cell_type": "code",
   "execution_count": 11,
   "metadata": {},
   "outputs": [],
   "source": [
    "stat_romania_Results.style.applymap(lambda x: \"{:3.2f}\".format(x) if 0.1 < x else \"{:3.2e}\".format(x)  )\n",
    "stat_romania_Results.to_excel(\"Full_System\\Romania\\Statistical_Romania_Results.xlsx\")"
   ]
  }
 ],
 "metadata": {
  "kernelspec": {
   "display_name": "Python 3",
   "language": "python",
   "name": "python3"
  },
  "language_info": {
   "codemirror_mode": {
    "name": "ipython",
    "version": 3
   },
   "file_extension": ".py",
   "mimetype": "text/x-python",
   "name": "python",
   "nbconvert_exporter": "python",
   "pygments_lexer": "ipython3",
   "version": "3.7.6-final"
  }
 },
 "nbformat": 4,
 "nbformat_minor": 2
}