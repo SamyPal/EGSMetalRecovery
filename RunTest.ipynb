{
 "cells": [
  {
   "cell_type": "code",
   "execution_count": null,
   "metadata": {},
   "outputs": [],
   "source": [
    "import System_model.CHMP_funs as cf\n",
    "import System_model.MonteCarlo_funs as mc\n",
    "from GCHPc.demand import ComodityType, Demand\n",
    "from GCHPc.orc_m01 import BinaryType, ORC\n",
    "from GCHPc.brine_properties import Brine\n",
    "import numpy as np\n",
    "import pandas as pd\n",
    "import matplotlib.pyplot as plt\n",
    "import matplotlib\n",
    "%matplotlib inline"
   ]
  },
  {
   "cell_type": "markdown",
   "metadata": {},
   "source": [
    "# Initial parameter list\n",
    "Ranges of parameters as they come out of the well"
   ]
  },
  {
   "cell_type": "code",
   "execution_count": 2,
   "metadata": {},
   "outputs": [],
   "source": [
    "from iapws import IAPWS97\n",
    "Temp=[120,150,170]\n",
    "reyParam={\n",
    "           \"t\"        : Temp,                                         # temperature [°C]\n",
    "           \"p\"        : [IAPWS97(T=(273+T), x=1).P*10 for T in Temp], # pressure    [bar]\n",
    "           \"ph\"       : [4.6,4.9],                                    # Acidity/Basicity\n",
    "           \"q\"        : [150,180,200],                                # Flow rate [L/s]\n",
    "           \"s\"        : [29,31],                                      # Salinity [g/L]\n",
    "           \"ewe\"      : [0.35],\n",
    "           #--------Concentrated suspended solids [mg/L]-------------------------\n",
    "           \"co2\":[680 ,2400],        # Carbon dioxide\n",
    "           \"na\":[49800 ,52000],      # Sodium\n",
    "           \"ca\": [1350,1530],        # Calcium\n",
    "           \"mg\": [7   ,12],          # Magnesium\n",
    "           \"cl\": [98100, 110000],    # Chlorine\n",
    "           \"au\": [5e-3 ,21e-3],      # Gold   \n",
    "           \"ag\": [26e-3,121e-3],     # Silver\n",
    "           \"co\": [8e-3 ,15e-3],      # Cobalt\n",
    "           \"zn\": [8,17],             # Zinc\n",
    "           \"li\": [0.1,1],            # Lithium \n",
    "           \"cu\": [0.8,3.1],          # Copper\n",
    "           \"pb\": [360e-3,2000e-3],   # Lead\n",
    "           \"ni\": [94e-3 ,650e-3],    # Nikkel\n",
    "           \"cd\": [40e-3 ,490e-3],    # Cadmium \n",
    "           \"ti\": [8.2e-3,8.3e-3],    # Tin\n",
    "           \"mo\": [33e-3 ,73e-3],     # Molybdenum \n",
    "           \"mn\": [0.1,1],            # Manganese\n",
    "           \"ba\": [0.1,1],            # Barium\n",
    "           \"se\": [12e-3,18e-3],      # Selenium\n",
    "           \"sr\": [0.1,1],            # Strontium\n",
    "           \"sb\": [6e-3,16e-3],       # Antimony\n",
    "           \"al\": [0.1,1],            # Aluminum\n",
    "           \"as\": [0.1,1],            # Arsenic\n",
    "          }\n",
    "\n",
    "ht_heat=Demand(comodity_type=ComodityType.HEAT, curve=np.array([3]), t_supply=120, t_return=80)\n",
    "lt_heat=Demand(comodity_type=ComodityType.HEAT, curve=np.array([5]), t_supply=60, t_return=40)\n",
    "orc = ORC(name='orc', t_bi=Temp[0], type=BinaryType.ocr_acc)\n",
    "brine = Brine(name='test', tds=.03, temperature=Temp[0], pressure=reyParam['p'][0])"
   ]
  },
  {
   "cell_type": "markdown",
   "metadata": {},
   "source": [
    "# Monte Carlo loop"
   ]
  },
  {
   "cell_type": "code",
   "execution_count": 3,
   "metadata": {},
   "outputs": [
    {
     "name": "stdout",
     "output_type": "stream",
     "text": [
      "-----------------------------------------------------\n",
      "orc props: {'name': 'orc', 'type': <BinaryType.ocr_acc: 0>, 't_bi': 157.54531514249905, 't_bo': 65.9, 'n': 12.77}\n",
      "brine props: {'name': 'test', 'tds': 0.032173498633375756, 'temperature': 67.92, 'pressure': 4.541201202225227, 'pressure_unit': <PressureUnits.megapascal: 3>, 'density': 939.0, 'cp': 4032.0, 'viscosity': 0.000207}\n",
      "mass flow: 42.34852597121128  -  T_out: 40.03°C\n",
      "heat supply: 6.562589 MWh  -  output orc: 1.7884547288437027 MW\n",
      "5411.952200793774 5.165484176278767 0.03751775761945361\n",
      "-----------------------------------------------------\n",
      "orc props: {'name': 'orc', 'type': <BinaryType.ocr_acc: 0>, 't_bi': 137.68376622926533, 't_bo': 65.3, 'n': 11.23}\n",
      "brine props: {'name': 'test', 'tds': 0.03238679030162372, 'temperature': 68.27, 'pressure': 5.710458275504946, 'pressure_unit': <PressureUnits.megapascal: 3>, 'density': 957.0, 'cp': 4031.0, 'viscosity': 0.000239}\n",
      "mass flow: 40.95496682136093  -  T_out: 40.03°C\n",
      "heat supply: 6.462448 MWh  -  output orc: 1.1112596906185148 MW\n",
      "5135.419037161245 5.18226053164463 0.03571624578289444\n",
      "-----------------------------------------------------\n",
      "orc props: {'name': 'orc', 'type': <BinaryType.ocr_acc: 0>, 't_bi': 129.1222537832528, 't_bo': 65.0, 'n': 10.44}\n",
      "brine props: {'name': 'test', 'tds': 0.030954134006429462, 'temperature': 67.98, 'pressure': 4.753923392446238, 'pressure_unit': <PressureUnits.megapascal: 3>, 'density': 963.0, 'cp': 4037.0, 'viscosity': 0.000255}\n",
      "mass flow: 48.789074530635034  -  T_out: 42.59°C\n",
      "heat supply: 6.8 MWh  -  output orc: 1.0904207374100607 MW\n",
      "6079.635455530846 5.164958330627977 0.036827783438239024\n",
      "-----------------------------------------------------\n",
      "orc props: {'name': 'orc', 'type': <BinaryType.ocr_acc: 0>, 't_bi': 149.77841500757694, 't_bo': 65.6, 'n': 12.22}\n",
      "brine props: {'name': 'test', 'tds': 0.03228884937110151, 'temperature': 67.75, 'pressure': 3.6064649179069947, 'pressure_unit': <PressureUnits.megapascal: 3>, 'density': 946.0, 'cp': 4031.0, 'viscosity': 0.000218}\n",
      "mass flow: 45.25694556314443  -  T_out: 40.34°C\n",
      "heat supply: 6.8 MWh  -  output orc: 1.6595212984740098 MW\n",
      "5740.83876065257 5.121422125211659 0.03556358049488909\n",
      "-----------------------------------------------------\n",
      "orc props: {'name': 'orc', 'type': <BinaryType.ocr_acc: 0>, 't_bi': 146.70304344918927, 't_bo': 65.6, 'n': 11.98}\n",
      "brine props: {'name': 'test', 'tds': 0.03244157954867861, 'temperature': 68.01, 'pressure': 5.069311459729846, 'pressure_unit': <PressureUnits.megapascal: 3>, 'density': 949.0, 'cp': 4030.0, 'viscosity': 0.000223}\n",
      "mass flow: 42.400879018149055  -  T_out: 40.03°C\n",
      "heat supply: 6.581473 MWh  -  output orc: 1.4367572001126725 MW\n",
      "5361.544238332863 5.036192255277713 0.03533788768721243\n",
      "-----------------------------------------------------\n",
      "orc props: {'name': 'orc', 'type': <BinaryType.ocr_acc: 0>, 't_bi': 145.7220884628506, 't_bo': 65.5, 'n': 11.9}\n",
      "brine props: {'name': 'test', 'tds': 0.031993053832914495, 'temperature': 67.99, 'pressure': 3.3337847207008435, 'pressure_unit': <PressureUnits.megapascal: 3>, 'density': 949.0, 'cp': 4032.0, 'viscosity': 0.000224}\n",
      "mass flow: 41.857664442504685  -  T_out: 40.03°C\n",
      "heat supply: 6.519188 MWh  -  output orc: 1.3864031852021155 MW\n",
      "5292.855356270349 5.235546559459482 0.03823203679009854\n",
      "-----------------------------------------------------\n",
      "orc props: {'name': 'orc', 'type': <BinaryType.ocr_acc: 0>, 't_bi': 168.6823088664681, 't_bo': 66.2, 'n': 13.46}\n",
      "brine props: {'name': 'test', 'tds': 0.03250002714128677, 'temperature': 67.79, 'pressure': 6.189110306086189, 'pressure_unit': <PressureUnits.megapascal: 3>, 'density': 929.0, 'cp': 4030.0, 'viscosity': 0.000193}\n",
      "mass flow: 45.65429147401752  -  T_out: 40.61°C\n",
      "heat supply: 6.8 MWh  -  output orc: 2.3591937879356286 MW\n",
      "5897.217413220777 5.107351139338556 0.03670375803024113\n",
      "-----------------------------------------------------\n",
      "orc props: {'name': 'orc', 'type': <BinaryType.ocr_acc: 0>, 't_bi': 150.3140187057487, 't_bo': 65.7, 'n': 12.26}\n",
      "brine props: {'name': 'test', 'tds': 0.03200280465345494, 'temperature': 67.74, 'pressure': 7.819615178368589, 'pressure_unit': <PressureUnits.megapascal: 3>, 'density': 947.0, 'cp': 4032.0, 'viscosity': 0.000217}\n",
      "mass flow: 46.932703731891365  -  T_out: 41.32°C\n",
      "heat supply: 6.8 MWh  -  output orc: 1.7491870866488752 MW\n",
      "5947.121909004185 5.086753396995816 0.03736852094204127\n",
      "-----------------------------------------------------\n",
      "orc props: {'name': 'orc', 'type': <BinaryType.ocr_acc: 0>, 't_bi': 148.61278302967594, 't_bo': 65.6, 'n': 12.13}\n",
      "brine props: {'name': 'test', 'tds': 0.031734075895278165, 'temperature': 67.76, 'pressure': 6.068099242210344, 'pressure_unit': <PressureUnits.megapascal: 3>, 'density': 947.0, 'cp': 4033.0, 'viscosity': 0.000219}\n",
      "mass flow: 46.11220760345678  -  T_out: 40.87°C\n",
      "heat supply: 6.8 MWh  -  output orc: 1.6553596755632 MW\n",
      "5843.15196664711 5.0421837368749785 0.03480114667950203\n",
      "-----------------------------------------------------\n",
      "orc props: {'name': 'orc', 'type': <BinaryType.ocr_acc: 0>, 't_bi': 144.8526831986935, 't_bo': 65.5, 'n': 11.83}\n",
      "brine props: {'name': 'test', 'tds': 0.031082560406724417, 'temperature': 67.64, 'pressure': 5.72766495931843, 'pressure_unit': <PressureUnits.megapascal: 3>, 'density': 950.0, 'cp': 4036.0, 'viscosity': 0.000225}\n",
      "mass flow: 49.006854019690685  -  T_out: 42.36°C\n",
      "heat supply: 6.8 MWh  -  output orc: 1.638869348894934 MW\n",
      "6190.339455118824 5.2436888196624825 0.03417739707868773\n"
     ]
    }
   ],
   "source": [
    "param_dist=reyParam\n",
    "num_mc_runs=1e1\n",
    "df=mc.full_monte_carlo_loop(num_mc_runs,param_dist)"
   ]
  },
  {
   "cell_type": "code",
   "execution_count": 4,
   "metadata": {},
   "outputs": [],
   "source": [
    "df.to_csv(\"Results/Results.csv\")\n",
    "df.to_pickle(\"Results/Results.pickle\")"
   ]
  }
 ],
 "metadata": {
  "kernelspec": {
   "display_name": "Python 3",
   "language": "python",
   "name": "python3"
  },
  "language_info": {
   "codemirror_mode": {
    "name": "ipython",
    "version": 3
   },
   "file_extension": ".py",
   "mimetype": "text/x-python",
   "name": "python",
   "nbconvert_exporter": "python",
   "pygments_lexer": "ipython3",
   "version": "3.6.8"
  }
 },
 "nbformat": 4,
 "nbformat_minor": 2
}
