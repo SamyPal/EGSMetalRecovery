{
 "cells": [
  {
   "cell_type": "code",
   "execution_count": 5,
   "metadata": {},
   "outputs": [],
   "source": [
    "import System_model.CHMP_funs as cf\n",
    "import System_model.MonteCarlo_funs as mc\n",
    "from GCHPc.demand import ComodityType, Demand\n",
    "from GCHPc.orc_m01 import BinaryType, ORC\n",
    "from GCHPc.brine_properties import Brine\n",
    "import numpy as np\n",
    "import pandas as pd\n",
    "import matplotlib.pyplot as plt\n",
    "import matplotlib\n",
    "%matplotlib inline"
   ]
  },
  {
   "cell_type": "markdown",
   "metadata": {},
   "source": [
    "# Initial parameter list\n",
    "Ranges of parameters as they come out of the well"
   ]
  },
  {
   "cell_type": "code",
   "execution_count": 6,
   "metadata": {},
   "outputs": [],
   "source": [
    "from iapws import IAPWS97\n",
    "Temp=[150,]\n",
    "reyParam={\n",
    "           \"t\"        : Temp,                                         # temperature [°C]\n",
    "           \"p\"        : [IAPWS97(T=(273+T), x=1).P*10 for T in Temp], # pressure    [bar]\n",
    "           \"ph\"       : [4.6,4.9],                                    # Acidity/Basicity\n",
    "           \"q\"        : [100,],                                       # Flow rate [L/s]\n",
    "           \"s\"        : [29,31],                                      # Salinity [g/L]\n",
    "           \"ewe\"      : [0.35],\n",
    "           #--------Gases--------------------------------------------------------\n",
    "           \"co2\":[678,2374],        # Carbon dioxide    \n",
    "           \"SO4\":[15,19.5],          #\n",
    "           \"H2S\":[24.2,66.8],        #\n",
    "           \"H2\": [0.2,0.43],         #       \n",
    "           #--------Concentrated suspended solids [mg/L]-------------------------\n",
    "           \"na\": [8253 ,9127],       # Sodium\n",
    "           \"k\" : [1186,1486],        # Potassium\n",
    "           \"ca\": [1375,1763],        # Calcium\n",
    "           \"mg\": [4.1,12.2],         # Magnesium\n",
    "           \"fe\": [8.6,85.1],         # Iron\n",
    "           \"si\": [281,356],          # Silicon\n",
    "           \"cl\": [17570,18750],      # Chlorine\n",
    "           \"au\": [5e-3 ,21e-3],      # Gold   \n",
    "           \"ag\": [26e-3,121e-3],     # Silver\n",
    "           \"co\": [0 ,14.2e-3],      # Cobalt\n",
    "           \"zn\": [5.2,25.7],         # Zinc\n",
    "           \"cu\": [0.8,16.6],         # Copper\n",
    "           \"pb\": [124e-3,1991e-3],   # Lead\n",
    "           \"ni\": [94e-3 ,654e-3],    # Nikkel\n",
    "           \"as\": [51,150],           # Arsenic\n",
    "           \"cd\": [38e-3 ,491e-3],    # Cadmium \n",
    "           \"ti\": [8.2e-3,12.1e-3],    # Tin\n",
    "           \"mo\": [12e-3 ,73e-3],     # Molybdenum \n",
    "           \"ag\": [26e-3,121e-3],     # Silver\n",
    "           \"se\": [12e-3,18e-3],      # Selenium\n",
    "           \"sb\": [6.3e-3,25e-3],       # Antimony\n",
    "          }\n"
   ]
  },
  {
   "cell_type": "code",
   "execution_count": 7,
   "metadata": {
    "tags": []
   },
   "outputs": [
    {
     "output_type": "stream",
     "name": "stdout",
     "text": "28.7350515 31.775141300000005\n"
    }
   ],
   "source": [
    "salinity0=0\n",
    "salinity1=0\n",
    "for key in [\"na\",\"k\", \"ca\",\"mg\",\"fe\",\"si\",\"cl\",\"au\",\"ag\",\"co\",\"zn\",\\\n",
    "            \"cu\",\"pb\",\"ni\",\"as\",\"cd\",\"ti\",\"mo\",\"ag\",\"se\",\"sb\"]: \n",
    "    salinity0 += reyParam[key][0]/1000\n",
    "    salinity1 += reyParam[key][1]/1000\n",
    "print(salinity0,salinity1)"
   ]
  },
  {
   "cell_type": "markdown",
   "metadata": {},
   "source": [
    "# Monte Carlo loop"
   ]
  },
  {
   "cell_type": "code",
   "execution_count": 9,
   "metadata": {},
   "outputs": [
    {
     "output_type": "error",
     "ename": "NameError",
     "evalue": "name &#39;GCHPc_params&#39; is not defined",
     "traceback": [
      "\u001b[0;31m---------------------------------------------------------------------------\u001b[0m",
      "\u001b[0;31mNameError\u001b[0m                                 Traceback (most recent call last)",
      "\u001b[0;32m&lt;ipython-input-9-f6f993e7a62b&gt;\u001b[0m in \u001b[0;36m&lt;module&gt;\u001b[0;34m\u001b[0m\n\u001b[1;32m      1\u001b[0m \u001b[0mparam_dist\u001b[0m\u001b[0;34m=\u001b[0m\u001b[0mreyParam\u001b[0m\u001b[0;34m\u001b[0m\u001b[0;34m\u001b[0m\u001b[0m\n\u001b[1;32m      2\u001b[0m \u001b[0mnum_mc_runs\u001b[0m\u001b[0;34m=\u001b[0m\u001b[0;36m5e3\u001b[0m\u001b[0;34m\u001b[0m\u001b[0;34m\u001b[0m\u001b[0m\n\u001b[0;32m----&gt; 3\u001b[0;31m \u001b[0mdf\u001b[0m\u001b[0;34m=\u001b[0m\u001b[0mmc\u001b[0m\u001b[0;34m.\u001b[0m\u001b[0mfull_monte_carlo_loop\u001b[0m\u001b[0;34m(\u001b[0m\u001b[0mnum_mc_runs\u001b[0m\u001b[0;34m,\u001b[0m\u001b[0mparam_dist\u001b[0m\u001b[0;34m,\u001b[0m \u001b[0mGCHPc_params\u001b[0m\u001b[0;34m)\u001b[0m\u001b[0;34m\u001b[0m\u001b[0;34m\u001b[0m\u001b[0m\n\u001b[0m\u001b[1;32m      4\u001b[0m \u001b[0mdf\u001b[0m\u001b[0;34m.\u001b[0m\u001b[0mto_csv\u001b[0m\u001b[0;34m(\u001b[0m\u001b[0;34m&quot;Results/Full_System/Results.csv&quot;\u001b[0m\u001b[0;34m)\u001b[0m\u001b[0;34m\u001b[0m\u001b[0;34m\u001b[0m\u001b[0m\n",
      "\u001b[0;31mNameError\u001b[0m: name &#39;GCHPc_params&#39; is not defined"
     ]
    }
   ],
   "source": [
    "param_dist=reyParam\n",
    "num_mc_runs=5e3\n",
    "df=mc.full_monte_carlo_loop(num_mc_runs,param_dist, GCHPc_params)\n",
    "df.to_csv(\"Results/Full_System/Results.csv\")"
   ]
  },
  {
   "cell_type": "code",
   "execution_count": 4,
   "metadata": {},
   "outputs": [],
   "source": [
    "#c_order=['C3','C4','C5','C6']\n",
    "#df=mc.custom_monte_carlo_loop(num_mc_runs,param_dist,c_order)\n",
    "#df.to_csv(\"Results/Full_System/Results.csv\")"
   ]
  },
  {
   "cell_type": "code",
   "execution_count": 5,
   "metadata": {},
   "outputs": [],
   "source": [
    "#df=mc.custom_monte_carlo_loop(num_mc_runs,param_dist,['C3',])\n",
    "#df.to_csv(\"Results/C3/Results.csv\")\n",
    "#df=mc.custom_monte_carlo_loop(num_mc_runs,param_dist,['C4',])\n",
    "#df.to_csv(\"Results/C4/Results.csv\")\n",
    "#df=mc.custom_monte_carlo_loop(num_mc_runs,param_dist,['C5',])\n",
    "#df.to_csv(\"Results/C5/Results.csv\")\n",
    "#df=mc.custom_monte_carlo_loop(num_mc_runs,param_dist,['C6',])\n",
    "#df.to_csv(\"Results/C6/Results.csv\")"
   ]
  },
  {
   "cell_type": "code",
   "execution_count": 6,
   "metadata": {},
   "outputs": [],
   "source": [
    "#df.to_csv(\"Results/Results.csv\")\n",
    "#df.to_pickle(\"Results/Full_System/Results.pickle\")"
   ]
  }
 ],
 "metadata": {
  "kernelspec": {
   "display_name": "Python 3",
   "language": "python",
   "name": "python3"
  },
  "language_info": {
   "codemirror_mode": {
    "name": "ipython",
    "version": 3
   },
   "file_extension": ".py",
   "mimetype": "text/x-python",
   "name": "python",
   "nbconvert_exporter": "python",
   "pygments_lexer": "ipython3",
   "version": "3.7.6-final"
  }
 },
 "nbformat": 4,
 "nbformat_minor": 2
}