{
 "cells": [
  {
   "cell_type": "code",
   "execution_count": 1,
   "metadata": {
    "collapsed": true
   },
   "outputs": [],
   "source": [
    "from GCHPc.gchpp_simple_model import GCHPpType, GCHPp, calculate_ht_mass_flow, calculate_lt_supply, calculate_orc_mass_flow, calculate_t_bo\n",
    "from GCHPc.demand import ComodityType, Demand\n",
    "from GCHPc.brine_properties import Brine\n",
    "from GCHPc.orc_m01 import BinaryType, ORC\n",
    "import numpy as np"
   ]
  },
  {
   "cell_type": "code",
   "execution_count": 4,
   "metadata": {},
   "outputs": [
    {
     "name": "stdout",
     "output_type": "stream",
     "text": [
      "{'name': 'orc', 'type': <BinaryType.ocr_acc: 0>, 't_bi': 157.5, 't_bo': 65.9, 'n': 12.77}\n"
     ]
    }
   ],
   "source": [
    "gchpp = GCHPp(name='test', m_bi = 47.1, t_bi = 157.5, t_bo = 35., type=GCHPpType.parallel_serries)\n",
    "gchpp.brine = Brine(name='balmatt', tds=.031, temperature=gchpp.t_bi, pressure=4.86)\n",
    "gchpp.ht_demand = Demand(comodity_type=ComodityType.HEAT, curve=np.array([3]), t_supply=120, t_return=80)\n",
    "gchpp.lt_demand = Demand(comodity_type=ComodityType.HEAT, curve=np.array([5]), t_supply=60, t_return=40)\n",
    "gchpp.orc = ORC(name='orc', type=BinaryType.ocr_acc, t_bi=gchpp.t_bi)\n",
    "print(gchpp.orc.__dict__)"
   ]
  },
  {
   "cell_type": "code",
   "execution_count": 5,
   "metadata": {},
   "outputs": [
    {
     "name": "stdout",
     "output_type": "stream",
     "text": [
      "heat => 39,238 MWh\n",
      "heat => 13,730 MWh\n",
      "T out => 47.6°C\n"
     ]
    }
   ],
   "source": [
    "fulload = 8760 * .8\n",
    "\n",
    "out = calculate_ht_mass_flow(gchpp=gchpp,cutoff=.6)\n",
    "gchpp.m_ht = out['ht_flow']\n",
    "gchpp.ht_supply = out['ht_supply']\n",
    "\n",
    "out = calculate_lt_supply(gchpp=gchpp, cuttoff=1.)\n",
    "gchpp.lt_supply = out['lt_supply']\n",
    "\n",
    "out = calculate_orc_mass_flow(gchpp=gchpp)\n",
    "gchpp.m_orc = out\n",
    "\n",
    "Eheat = np.average(gchpp.ht_supply) + np.average(gchpp.lt_supply)\n",
    "Eheat *= fulload\n",
    "Eelec = np.average(gchpp.orc.calculate_output(flow_rate=out, brine=gchpp.brine)) * fulload\n",
    "\n",
    "print('heat => {:,.0f}'.format(Eheat) + ' MWh')\n",
    "print('heat => {:,.0f}'.format(Eelec) + ' MWh')\n",
    "print ('T out => {:.1f}'.format(np.average(calculate_t_bo(gchpp))) + '°C')"
   ]
  },
  {
   "cell_type": "code",
   "execution_count": 4,
   "metadata": {},
   "outputs": [],
   "source": []
  },
  {
   "cell_type": "code",
   "execution_count": null,
   "metadata": {},
   "outputs": [],
   "source": []
  }
 ],
 "metadata": {
  "kernelspec": {
   "display_name": "Python 3",
   "language": "python",
   "name": "python3"
  },
  "language_info": {
   "codemirror_mode": {
    "name": "ipython",
    "version": 3
   },
   "file_extension": ".py",
   "mimetype": "text/x-python",
   "name": "python",
   "nbconvert_exporter": "python",
   "pygments_lexer": "ipython3",
   "version": "3.6.8"
  }
 },
 "nbformat": 4,
 "nbformat_minor": 2
}
